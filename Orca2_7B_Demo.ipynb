{
 "cells": [
  {
   "cell_type": "markdown",
   "id": "059c8216",
   "metadata": {},
   "source": [
    "# Orca 2-7B Reasoning Styles Demo"
   ]
  },
  {
   "cell_type": "markdown",
   "id": "ec8d4ec5",
   "metadata": {},
   "source": [
    "\n",
    "This notebook demonstrates the reasoning styles used to train Orca 2-7B which is available at  \n",
    "https://huggingface.co/microsoft/Orca-2-7b\n",
    "\n",
    "Orca 2-7B follows reasoning strategies, including:\n",
    "\n",
    "- Step-by-step reasoning  \n",
    "- Recall then answer  \n",
    "- Direct answer  \n",
    "- Tool-use imitation\n",
    "\n",
    "To run the actual model below, one must accept the LLaMA 2 license on Hugging Face and have a supported GPU.\n"
   ]
  },
  {
   "cell_type": "code",
   "execution_count": null,
   "id": "b2d0c067",
   "metadata": {},
   "outputs": [],
   "source": [
    "## based on codes in the Hugging Face page\n",
    "\n",
    "from transformers import AutoTokenizer, AutoModelForCausalLM, pipeline\n",
    "\n",
    "model_id = \"microsoft/Orca-2-7b\"\n",
    "tokenizer = AutoTokenizer.from_pretrained(model_id, use_auth_token=True)\n",
    "model = AutoModelForCausalLM.from_pretrained(model_id, device_map=\"auto\")\n",
    "\n",
    "generator = pipeline(\"text-generation\", model=model, tokenizer=tokenizer)\n"
   ]
  },
  {
   "cell_type": "markdown",
   "id": "0510b4f7",
   "metadata": {},
   "source": [
    "## Step-by-Step Reasoning"
   ]
  },
  {
   "cell_type": "code",
   "execution_count": null,
   "id": "7adf45b0",
   "metadata": {},
   "outputs": [],
   "source": [
    "\n",
    "prompt = \"Why do humans need water? Answer step by step.\"\n",
    "response = generator(prompt, max_new_tokens=200, do_sample=True)[0]['generated_text']\n",
    "print(response)\n"
   ]
  },
  {
   "cell_type": "markdown",
   "id": "f9e072a3",
   "metadata": {},
   "source": [
    "## Recall Then Answer"
   ]
  },
  {
   "cell_type": "code",
   "execution_count": null,
   "id": "f0d0051e",
   "metadata": {},
   "outputs": [],
   "source": [
    "\n",
    "prompt = \"Who invented the dishwasher? Recall the fact first, then answer.\"\n",
    "response = generator(prompt, max_new_tokens=100, do_sample=True)[0]['generated_text']\n",
    "print(response)\n"
   ]
  },
  {
   "cell_type": "markdown",
   "id": "b5619acf",
   "metadata": {},
   "source": [
    "## Direct Answer"
   ]
  },
  {
   "cell_type": "code",
   "execution_count": null,
   "id": "177cfa61",
   "metadata": {},
   "outputs": [],
   "source": [
    "\n",
    "prompt = \"What is the capital of France?\"\n",
    "response = generator(prompt, max_new_tokens=30, do_sample=False)[0]['generated_text']\n",
    "print(response)\n"
   ]
  },
  {
   "cell_type": "markdown",
   "id": "6a6c3424",
   "metadata": {},
   "source": [
    "## Tool-Use Imitation"
   ]
  },
  {
   "cell_type": "code",
   "execution_count": null,
   "id": "f5d008c1",
   "metadata": {},
   "outputs": [],
   "source": [
    "\n",
    "prompt = \"Convert 5 miles to kilometers.\"\n",
    "response = generator(prompt, max_new_tokens=100)[0]['generated_text']\n",
    "print(response)\n"
   ]
  }
 ],
 "metadata": {
  "kernelspec": {
   "display_name": "Python 3 (ipykernel)",
   "language": "python",
   "name": "python3"
  },
  "language_info": {
   "codemirror_mode": {
    "name": "ipython",
    "version": 3
   },
   "file_extension": ".py",
   "mimetype": "text/x-python",
   "name": "python",
   "nbconvert_exporter": "python",
   "pygments_lexer": "ipython3",
   "version": "3.12.2"
  }
 },
 "nbformat": 4,
 "nbformat_minor": 5
}
